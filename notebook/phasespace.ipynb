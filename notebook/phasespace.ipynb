{
 "cells": [
  {
   "cell_type": "code",
   "execution_count": 1,
   "metadata": {},
   "outputs": [],
   "source": [
    "import numpy as np\n",
    "import matplotlib.pyplot as pl\n",
    "from numba import jit\n",
    "import xarray as xr\n",
    "import moduphasespace"
   ]
  },
  {
   "cell_type": "code",
   "execution_count": 2,
   "metadata": {},
   "outputs": [],
   "source": [
    "data = xr.open_dataset('../Jupyter/large_scale/data/caf_ls_eth_scipy.nc')\n",
    "convective_area_fraction = data.convective_area_fraction.values\n",
    "nb_cells = data.o_number.values\n",
    "mean_area_convective_cells =  data.o_area.values"
   ]
  },
  {
   "cell_type": "code",
   "execution_count": 3,
   "metadata": {},
   "outputs": [],
   "source": [
    "# def compute_phase_space(x_in, y_in, x_out, y_out):\n",
    "#     dx = np.abs(x_out[2] - x_out[1])\n",
    "#     dy = np.abs(y_out[2] - y_out[1])\n",
    "#     ny, nx = len(y_out), len(x_out)\n",
    "#     phase = np.zeros((ny, nx), dtype=np.int32)\n",
    "    \n",
    "#     for j in range(ny):\n",
    "#         for i in range(nx):\n",
    "#             pos = ((x_in >= x_out[i] - dx / 2) &\n",
    "#                    (x_in < x_out[i] + dx / 2) &\n",
    "#                    (y_in >= y_out[j] - dy / 2) &\n",
    "#                    (y_in < y_out[j] + dy / 2))\n",
    "            \n",
    "#             if np.sum(pos) == 0:\n",
    "#                 continue\n",
    "            \n",
    "#             phase[j, i] = np.sum(pos)\n",
    "            \n",
    "#     return phase"
   ]
  },
  {
   "cell_type": "code",
   "execution_count": 4,
   "metadata": {},
   "outputs": [],
   "source": [
    "# def compute_phase_space_3d(x_in, y_in, x_out, y_out, arr):\n",
    "#     dx = np.abs(x_out[2] - x_out[1])\n",
    "#     dy = np.abs(y_out[2] - y_out[1])\n",
    "#     ny, nx = len(y_out), len(x_out)\n",
    "#     phase = np.zeros((ny, nx)) + np.NaN\n",
    "    \n",
    "#     if x_in.shape != y_in.shape or x_in.shape != arr.shape:\n",
    "#         raise ValueError('Wrong dimensions.')\n",
    "    \n",
    "#     for j in range(ny):\n",
    "#         for i in range(nx):\n",
    "#             pos = ((x_in >= x_out[i] - dx / 2) &\n",
    "#                    (x_in < x_out[i] + dx / 2) &\n",
    "#                    (y_in >= y_out[j] - dy / 2) &\n",
    "#                    (y_in < y_out[j] + dy / 2))\n",
    "            \n",
    "#             if np.sum(pos) == 0:\n",
    "#                 continue\n",
    "            \n",
    "#             phase[j, i] = np.nanmean(arr[pos])\n",
    "            \n",
    "#     return np.ma.masked_invalid(phase)"
   ]
  },
  {
   "cell_type": "code",
   "execution_count": 5,
   "metadata": {},
   "outputs": [],
   "source": [
    "def get_phasespace(x, y, z=None, *, bins=10, range=None, kind='mean'):\n",
    "    try:\n",
    "        len(bins)\n",
    "        N0 = bins[0]\n",
    "        N1 = bins[1]\n",
    "    except TypeError:\n",
    "        N0 = bins\n",
    "        N1 = bins\n",
    "        \n",
    "    if z is not None:\n",
    "        if np.isnan(z).any():\n",
    "            raise ValueError(\"z contains NaN values.\")\n",
    "        \n",
    "    if x.shape != y.shape:\n",
    "        raise ValueError(\"Wrong dimensions.\")\n",
    "        if z is not None and (z.shape != x.shape):\n",
    "            raise ValueError(\"z-array doesn't have the same dimensions.\")\n",
    "    if len(x.shape) != 1:\n",
    "        raise ValueError(f\"Not a 1D array, x.shape = {x.shape}\")\n",
    "        \n",
    "    if range is None:\n",
    "        if np.isnan(x).any() or np.isnan(y).any():\n",
    "            raise ValueError(\"autodetected range of [nan, nan] is not finite\")\n",
    "        xout = np.linspace(x.min(), x.max(), N0)\n",
    "        yout = np.linspace(y.min(), y.max(), N1)\n",
    "    else:\n",
    "        xout = np.linspace(range[0][0], range[0][1], N0)\n",
    "        yout = np.linspace(range[1][0], range[1][1], N1)\n",
    "\n",
    "    if z is None:\n",
    "        phase = phasespace.phase_space_count(x, y, xout, yout)    \n",
    "    else:\n",
    "        if kind == 'mean':\n",
    "            phase = phasespace.phase_space_avg(x, y, z, xout, yout)    \n",
    "        elif kind == 'var':\n",
    "            phase = np.ma.masked_equal(phasespace.phase_space_var(x, y, z, xout, yout), -9999)\n",
    "    return  phase"
   ]
  },
  {
   "cell_type": "code",
   "execution_count": 6,
   "metadata": {},
   "outputs": [],
   "source": [
    "pos = ~np.isnan(mean_area_convective_cells) & ~np.isnan(nb_cells) & ~np.isnan(convective_area_fraction)\n",
    "xx = mean_area_convective_cells[pos].flatten()\n",
    "yy = nb_cells[pos].flatten()\n",
    "zz = convective_area_fraction[pos].flatten()"
   ]
  },
  {
   "cell_type": "code",
   "execution_count": 7,
   "metadata": {},
   "outputs": [],
   "source": [
    "pha = get_phasespace(xx, yy, bins=[50, 10], range=[[0, 300], [0, 80]])"
   ]
  },
  {
   "cell_type": "code",
   "execution_count": 8,
   "metadata": {},
   "outputs": [
    {
     "data": {
      "text/plain": [
       "<matplotlib.colorbar.Colorbar at 0x7f8ccf1ba0f0>"
      ]
     },
     "execution_count": 8,
     "metadata": {},
     "output_type": "execute_result"
    },
    {
     "data": {
      "image/png": "[encoded data removed]",
      "text/plain": [
       "<Figure size 432x288 with 2 Axes>"
      ]
     },
     "metadata": {
      "needs_background": "light"
     },
     "output_type": "display_data"
    }
   ],
   "source": [
    "pl.imshow(np.ma.masked_equal(pha, 0), origin='ij', aspect='auto', extent=[0, 6.25*300, 0, 80])\n",
    "pl.colorbar()"
   ]
  },
  {
   "cell_type": "code",
   "execution_count": 9,
   "metadata": {},
   "outputs": [],
   "source": [
    "pha0 = get_phasespace(xx, yy, zz, bins=70, range=[[0, 300], [0, 80]])"
   ]
  },
  {
   "cell_type": "code",
   "execution_count": 10,
   "metadata": {},
   "outputs": [
    {
     "data": {
      "text/plain": [
       "<matplotlib.colorbar.Colorbar at 0x7f8ccec62ba8>"
      ]
     },
     "execution_count": 10,
     "metadata": {},
     "output_type": "execute_result"
    },
    {
     "data": {
      "image/png": "[encoded data removed]",
      "text/plain": [
       "<Figure size 432x288 with 2 Axes>"
      ]
     },
     "metadata": {
      "needs_background": "light"
     },
     "output_type": "display_data"
    }
   ],
   "source": [
    "pl.imshow(100 * pha0, origin='ij', aspect='auto', extent=[0, 6.25*300, 0, 80])\n",
    "pl.colorbar()"
   ]
  },
  {
   "cell_type": "code",
   "execution_count": 11,
   "metadata": {},
   "outputs": [],
   "source": [
    "pha1 = get_phasespace(xx, yy, zz, bins=70, range=[[0, 300], [0, 80]], kind='var')"
   ]
  },
  {
   "cell_type": "code",
   "execution_count": 12,
   "metadata": {},
   "outputs": [
    {
     "data": {
      "text/plain": [
       "<matplotlib.colorbar.Colorbar at 0x7f8ccec0c9e8>"
      ]
     },
     "execution_count": 12,
     "metadata": {},
     "output_type": "execute_result"
    },
    {
     "data": {
      "image/png": "[encoded data removed]",
      "text/plain": [
       "<Figure size 432x288 with 2 Axes>"
      ]
     },
     "metadata": {
      "needs_background": "light"
     },
     "output_type": "display_data"
    }
   ],
   "source": [
    "pl.imshow(pha1, origin='ij', aspect='auto', extent=[0, 6.25*300, 0, 80])\n",
    "pl.colorbar()"
   ]
  },
  {
   "cell_type": "code",
   "execution_count": 13,
   "metadata": {},
   "outputs": [
    {
     "name": "stderr",
     "output_type": "stream",
     "text": [
      "/short/en0/vhl548/miniconda3/envs/radar/lib/python3.7/site-packages/ipykernel_launcher.py:1: RuntimeWarning: invalid value encountered in sqrt\n",
      "  \"\"\"Entry point for launching an IPython kernel.\n"
     ]
    },
    {
     "data": {
      "text/plain": [
       "<matplotlib.colorbar.Colorbar at 0x7f8cceb3acf8>"
      ]
     },
     "execution_count": 13,
     "metadata": {},
     "output_type": "execute_result"
    },
    {
     "data": {
      "image/png": "[encoded data removed]",
      "text/plain": [
       "<Figure size 432x288 with 2 Axes>"
      ]
     },
     "metadata": {
      "needs_background": "light"
     },
     "output_type": "display_data"
    }
   ],
   "source": [
    "pl.imshow(100 * np.sqrt(pha1), origin='ij', aspect='auto', extent=[0, 6.25*300, 0, 80])\n",
    "pl.colorbar()"
   ]
  },
  {
   "cell_type": "code",
   "execution_count": null,
   "metadata": {},
   "outputs": [],
   "source": []
  }
 ],
 "metadata": {
  "kernelspec": {
   "display_name": "Python 3",
   "language": "python",
   "name": "python3"
  },
  "language_info": {
   "codemirror_mode": {
    "name": "ipython",
    "version": 3
   },
   "file_extension": ".py",
   "mimetype": "text/x-python",
   "name": "python",
   "nbconvert_exporter": "python",
   "pygments_lexer": "ipython3",
   "version": "3.7.3"
  }
 },
 "nbformat": 4,
 "nbformat_minor": 2
}
